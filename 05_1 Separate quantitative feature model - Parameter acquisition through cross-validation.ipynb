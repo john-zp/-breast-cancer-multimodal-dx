{
 "cells": [
  {
   "cell_type": "markdown",
   "id": "34124537",
   "metadata": {},
   "source": [
    "# IMPORT DATA"
   ]
  },
  {
   "cell_type": "code",
   "execution_count": 1,
   "id": "01eb4376",
   "metadata": {
    "collapsed": true,
    "jupyter": {
     "outputs_hidden": true
    }
   },
   "outputs": [],
   "source": [
    "import pandas as pd\n",
    "import numpy as np"
   ]
  },
  {
   "cell_type": "code",
   "execution_count": 2,
   "id": "592c5f19",
   "metadata": {
    "collapsed": true,
    "jupyter": {
     "outputs_hidden": true
    }
   },
   "outputs": [],
   "source": [
    "train_bfeature = pd.read_excel('03_train_bfeature.xlsx',index_col=0)\n",
    "test_bfeature = pd.read_excel('03_test_bfeature.xlsx', index_col=0)"
   ]
  },
  {
   "cell_type": "code",
   "execution_count": 3,
   "id": "dff9043a",
   "metadata": {
    "collapsed": true,
    "jupyter": {
     "outputs_hidden": true
    }
   },
   "outputs": [
    {
     "data": {
      "text/html": [
       "<div>\n",
       "<style scoped>\n",
       "    .dataframe tbody tr th:only-of-type {\n",
       "        vertical-align: middle;\n",
       "    }\n",
       "\n",
       "    .dataframe tbody tr th {\n",
       "        vertical-align: top;\n",
       "    }\n",
       "\n",
       "    .dataframe thead th {\n",
       "        text-align: right;\n",
       "    }\n",
       "</style>\n",
       "<table border=\"1\" class=\"dataframe\">\n",
       "  <thead>\n",
       "    <tr style=\"text-align: right;\">\n",
       "      <th></th>\n",
       "      <th>ER</th>\n",
       "      <th>PR</th>\n",
       "      <th>HER</th>\n",
       "      <th>B</th>\n",
       "      <th>M</th>\n",
       "      <th>A1</th>\n",
       "      <th>A2</th>\n",
       "      <th>A3</th>\n",
       "      <th>B1</th>\n",
       "      <th>C1</th>\n",
       "      <th>...</th>\n",
       "      <th>J5</th>\n",
       "      <th>J6</th>\n",
       "      <th>BI-RADS 1</th>\n",
       "      <th>BI-RADS 2</th>\n",
       "      <th>BI-RADS 3</th>\n",
       "      <th>BI-RADS 4A</th>\n",
       "      <th>BI-RADS 4B</th>\n",
       "      <th>BI-RADS 4C</th>\n",
       "      <th>BI-RADS 5</th>\n",
       "      <th>BI-RADS 6</th>\n",
       "    </tr>\n",
       "    <tr>\n",
       "      <th>ID</th>\n",
       "      <th></th>\n",
       "      <th></th>\n",
       "      <th></th>\n",
       "      <th></th>\n",
       "      <th></th>\n",
       "      <th></th>\n",
       "      <th></th>\n",
       "      <th></th>\n",
       "      <th></th>\n",
       "      <th></th>\n",
       "      <th></th>\n",
       "      <th></th>\n",
       "      <th></th>\n",
       "      <th></th>\n",
       "      <th></th>\n",
       "      <th></th>\n",
       "      <th></th>\n",
       "      <th></th>\n",
       "      <th></th>\n",
       "      <th></th>\n",
       "      <th></th>\n",
       "    </tr>\n",
       "  </thead>\n",
       "  <tbody>\n",
       "    <tr>\n",
       "      <th>4664727</th>\n",
       "      <td>NaN</td>\n",
       "      <td>NaN</td>\n",
       "      <td>NaN</td>\n",
       "      <td>1</td>\n",
       "      <td>0</td>\n",
       "      <td>1</td>\n",
       "      <td>0</td>\n",
       "      <td>0</td>\n",
       "      <td>1</td>\n",
       "      <td>0</td>\n",
       "      <td>...</td>\n",
       "      <td>0</td>\n",
       "      <td>0</td>\n",
       "      <td>0</td>\n",
       "      <td>0</td>\n",
       "      <td>0</td>\n",
       "      <td>1</td>\n",
       "      <td>0</td>\n",
       "      <td>0</td>\n",
       "      <td>0</td>\n",
       "      <td>0</td>\n",
       "    </tr>\n",
       "    <tr>\n",
       "      <th>4670551</th>\n",
       "      <td>NaN</td>\n",
       "      <td>NaN</td>\n",
       "      <td>NaN</td>\n",
       "      <td>1</td>\n",
       "      <td>0</td>\n",
       "      <td>0</td>\n",
       "      <td>0</td>\n",
       "      <td>1</td>\n",
       "      <td>0</td>\n",
       "      <td>0</td>\n",
       "      <td>...</td>\n",
       "      <td>0</td>\n",
       "      <td>0</td>\n",
       "      <td>0</td>\n",
       "      <td>0</td>\n",
       "      <td>0</td>\n",
       "      <td>0</td>\n",
       "      <td>1</td>\n",
       "      <td>0</td>\n",
       "      <td>0</td>\n",
       "      <td>0</td>\n",
       "    </tr>\n",
       "    <tr>\n",
       "      <th>4603364</th>\n",
       "      <td>NaN</td>\n",
       "      <td>NaN</td>\n",
       "      <td>NaN</td>\n",
       "      <td>1</td>\n",
       "      <td>0</td>\n",
       "      <td>1</td>\n",
       "      <td>0</td>\n",
       "      <td>0</td>\n",
       "      <td>1</td>\n",
       "      <td>1</td>\n",
       "      <td>...</td>\n",
       "      <td>0</td>\n",
       "      <td>0</td>\n",
       "      <td>0</td>\n",
       "      <td>0</td>\n",
       "      <td>0</td>\n",
       "      <td>1</td>\n",
       "      <td>0</td>\n",
       "      <td>0</td>\n",
       "      <td>0</td>\n",
       "      <td>0</td>\n",
       "    </tr>\n",
       "    <tr>\n",
       "      <th>4621837</th>\n",
       "      <td>NaN</td>\n",
       "      <td>NaN</td>\n",
       "      <td>NaN</td>\n",
       "      <td>0</td>\n",
       "      <td>1</td>\n",
       "      <td>0</td>\n",
       "      <td>0</td>\n",
       "      <td>1</td>\n",
       "      <td>0</td>\n",
       "      <td>0</td>\n",
       "      <td>...</td>\n",
       "      <td>0</td>\n",
       "      <td>0</td>\n",
       "      <td>0</td>\n",
       "      <td>0</td>\n",
       "      <td>0</td>\n",
       "      <td>0</td>\n",
       "      <td>0</td>\n",
       "      <td>0</td>\n",
       "      <td>1</td>\n",
       "      <td>0</td>\n",
       "    </tr>\n",
       "    <tr>\n",
       "      <th>4633063</th>\n",
       "      <td>NaN</td>\n",
       "      <td>NaN</td>\n",
       "      <td>NaN</td>\n",
       "      <td>1</td>\n",
       "      <td>0</td>\n",
       "      <td>1</td>\n",
       "      <td>0</td>\n",
       "      <td>0</td>\n",
       "      <td>1</td>\n",
       "      <td>1</td>\n",
       "      <td>...</td>\n",
       "      <td>0</td>\n",
       "      <td>0</td>\n",
       "      <td>0</td>\n",
       "      <td>0</td>\n",
       "      <td>1</td>\n",
       "      <td>0</td>\n",
       "      <td>0</td>\n",
       "      <td>0</td>\n",
       "      <td>0</td>\n",
       "      <td>0</td>\n",
       "    </tr>\n",
       "  </tbody>\n",
       "</table>\n",
       "<p>5 rows × 47 columns</p>\n",
       "</div>"
      ],
      "text/plain": [
       "         ER  PR  HER  B  M  A1  A2  A3  B1  C1  ...  J5  J6  BI-RADS 1  \\\n",
       "ID                                              ...                      \n",
       "4664727 NaN NaN  NaN  1  0   1   0   0   1   0  ...   0   0          0   \n",
       "4670551 NaN NaN  NaN  1  0   0   0   1   0   0  ...   0   0          0   \n",
       "4603364 NaN NaN  NaN  1  0   1   0   0   1   1  ...   0   0          0   \n",
       "4621837 NaN NaN  NaN  0  1   0   0   1   0   0  ...   0   0          0   \n",
       "4633063 NaN NaN  NaN  1  0   1   0   0   1   1  ...   0   0          0   \n",
       "\n",
       "         BI-RADS 2  BI-RADS 3  BI-RADS 4A  BI-RADS 4B  BI-RADS 4C  BI-RADS 5  \\\n",
       "ID                                                                             \n",
       "4664727          0          0           1           0           0          0   \n",
       "4670551          0          0           0           1           0          0   \n",
       "4603364          0          0           1           0           0          0   \n",
       "4621837          0          0           0           0           0          1   \n",
       "4633063          0          1           0           0           0          0   \n",
       "\n",
       "         BI-RADS 6  \n",
       "ID                  \n",
       "4664727          0  \n",
       "4670551          0  \n",
       "4603364          0  \n",
       "4621837          0  \n",
       "4633063          0  \n",
       "\n",
       "[5 rows x 47 columns]"
      ]
     },
     "execution_count": 3,
     "metadata": {},
     "output_type": "execute_result"
    }
   ],
   "source": [
    "train_bfeature.head()"
   ]
  },
  {
   "cell_type": "code",
   "execution_count": 4,
   "id": "41e57a73",
   "metadata": {
    "collapsed": true,
    "jupyter": {
     "outputs_hidden": true
    }
   },
   "outputs": [
    {
     "name": "stdout",
     "output_type": "stream",
     "text": [
      "<class 'pandas.core.frame.DataFrame'>\n",
      "Int64Index: 3715 entries, 4562943 to 4711251\n",
      "Data columns (total 21 columns):\n",
      " #   Column        Non-Null Count  Dtype  \n",
      "---  ------        --------------  -----  \n",
      " 0   index         3715 non-null   object \n",
      " 1   form_factor   3715 non-null   float64\n",
      " 2   aspect_ratio  3715 non-null   float64\n",
      " 3   ls            3715 non-null   float64\n",
      " 4   nrv           3715 non-null   float64\n",
      " 5   mcr           3715 non-null   float64\n",
      " 6   sENS          3715 non-null   float64\n",
      " 7   oDWR          3715 non-null   float64\n",
      " 8   mMU           3715 non-null   int64  \n",
      " 9   mMA           3715 non-null   int64  \n",
      " 10  mMUA          3715 non-null   int64  \n",
      " 11  bLB10px       3715 non-null   float64\n",
      " 12  bLB25         3715 non-null   float64\n",
      " 13  bLB50         3715 non-null   float64\n",
      " 14  bLB100        3715 non-null   float64\n",
      " 15  bNRG          3715 non-null   float64\n",
      " 16  eEPi          3715 non-null   float64\n",
      " 17  eEPc          3715 non-null   float64\n",
      " 18  eACOR         3715 non-null   float64\n",
      " 19  PS_D          3715 non-null   float64\n",
      " 20  MSD           3715 non-null   float64\n",
      "dtypes: float64(17), int64(3), object(1)\n",
      "memory usage: 638.5+ KB\n"
     ]
    }
   ],
   "source": [
    "idqfeature = pd.read_excel('02_1_idqfeature.xlsx',index_col=0)\n",
    "idqfeature.info()"
   ]
  },
  {
   "cell_type": "markdown",
   "id": "fa4558fd",
   "metadata": {},
   "source": [
    "# Data set division"
   ]
  },
  {
   "cell_type": "code",
   "execution_count": 5,
   "id": "a04e6054",
   "metadata": {
    "collapsed": true,
    "jupyter": {
     "outputs_hidden": true
    }
   },
   "outputs": [
    {
     "data": {
      "text/html": [
       "<div>\n",
       "<style scoped>\n",
       "    .dataframe tbody tr th:only-of-type {\n",
       "        vertical-align: middle;\n",
       "    }\n",
       "\n",
       "    .dataframe tbody tr th {\n",
       "        vertical-align: top;\n",
       "    }\n",
       "\n",
       "    .dataframe thead th {\n",
       "        text-align: right;\n",
       "    }\n",
       "</style>\n",
       "<table border=\"1\" class=\"dataframe\">\n",
       "  <thead>\n",
       "    <tr style=\"text-align: right;\">\n",
       "      <th></th>\n",
       "      <th>index</th>\n",
       "      <th>form_factor</th>\n",
       "      <th>aspect_ratio</th>\n",
       "      <th>ls</th>\n",
       "      <th>nrv</th>\n",
       "      <th>mcr</th>\n",
       "      <th>sENS</th>\n",
       "      <th>oDWR</th>\n",
       "      <th>mMU</th>\n",
       "      <th>mMA</th>\n",
       "      <th>...</th>\n",
       "      <th>J5</th>\n",
       "      <th>J6</th>\n",
       "      <th>BI-RADS 1</th>\n",
       "      <th>BI-RADS 2</th>\n",
       "      <th>BI-RADS 3</th>\n",
       "      <th>BI-RADS 4A</th>\n",
       "      <th>BI-RADS 4B</th>\n",
       "      <th>BI-RADS 4C</th>\n",
       "      <th>BI-RADS 5</th>\n",
       "      <th>BI-RADS 6</th>\n",
       "    </tr>\n",
       "    <tr>\n",
       "      <th>key_0</th>\n",
       "      <th></th>\n",
       "      <th></th>\n",
       "      <th></th>\n",
       "      <th></th>\n",
       "      <th></th>\n",
       "      <th></th>\n",
       "      <th></th>\n",
       "      <th></th>\n",
       "      <th></th>\n",
       "      <th></th>\n",
       "      <th></th>\n",
       "      <th></th>\n",
       "      <th></th>\n",
       "      <th></th>\n",
       "      <th></th>\n",
       "      <th></th>\n",
       "      <th></th>\n",
       "      <th></th>\n",
       "      <th></th>\n",
       "      <th></th>\n",
       "      <th></th>\n",
       "    </tr>\n",
       "  </thead>\n",
       "  <tbody>\n",
       "    <tr>\n",
       "      <th>4562943</th>\n",
       "      <td>1.2.250.1.204.5.8373722513.2016053115163325608...</td>\n",
       "      <td>497.025797</td>\n",
       "      <td>0.581132</td>\n",
       "      <td>1.860344</td>\n",
       "      <td>0.096305</td>\n",
       "      <td>0.064734</td>\n",
       "      <td>0.590177</td>\n",
       "      <td>0.581132</td>\n",
       "      <td>2</td>\n",
       "      <td>3</td>\n",
       "      <td>...</td>\n",
       "      <td>0</td>\n",
       "      <td>0</td>\n",
       "      <td>0</td>\n",
       "      <td>0</td>\n",
       "      <td>0</td>\n",
       "      <td>0</td>\n",
       "      <td>1</td>\n",
       "      <td>0</td>\n",
       "      <td>0</td>\n",
       "      <td>0</td>\n",
       "    </tr>\n",
       "    <tr>\n",
       "      <th>4562999</th>\n",
       "      <td>1.2.250.1.204.5.8373722513.2016060107595026328...</td>\n",
       "      <td>242.313876</td>\n",
       "      <td>0.666667</td>\n",
       "      <td>1.517867</td>\n",
       "      <td>0.039375</td>\n",
       "      <td>0.013549</td>\n",
       "      <td>0.596358</td>\n",
       "      <td>0.666667</td>\n",
       "      <td>2</td>\n",
       "      <td>3</td>\n",
       "      <td>...</td>\n",
       "      <td>0</td>\n",
       "      <td>0</td>\n",
       "      <td>0</td>\n",
       "      <td>0</td>\n",
       "      <td>1</td>\n",
       "      <td>0</td>\n",
       "      <td>0</td>\n",
       "      <td>0</td>\n",
       "      <td>0</td>\n",
       "      <td>0</td>\n",
       "    </tr>\n",
       "    <tr>\n",
       "      <th>4567784</th>\n",
       "      <td>1.2.250.1.204.5.8373722513.2016060508231863455...</td>\n",
       "      <td>646.455872</td>\n",
       "      <td>0.626298</td>\n",
       "      <td>1.616658</td>\n",
       "      <td>0.035126</td>\n",
       "      <td>0.095081</td>\n",
       "      <td>0.573398</td>\n",
       "      <td>0.626298</td>\n",
       "      <td>2</td>\n",
       "      <td>5</td>\n",
       "      <td>...</td>\n",
       "      <td>0</td>\n",
       "      <td>0</td>\n",
       "      <td>0</td>\n",
       "      <td>0</td>\n",
       "      <td>0</td>\n",
       "      <td>1</td>\n",
       "      <td>0</td>\n",
       "      <td>0</td>\n",
       "      <td>0</td>\n",
       "      <td>0</td>\n",
       "    </tr>\n",
       "    <tr>\n",
       "      <th>4562435</th>\n",
       "      <td>1.2.250.1.204.5.8373722513.2016060514055665388...</td>\n",
       "      <td>560.692873</td>\n",
       "      <td>0.683128</td>\n",
       "      <td>1.640397</td>\n",
       "      <td>0.019188</td>\n",
       "      <td>0.067247</td>\n",
       "      <td>0.510398</td>\n",
       "      <td>0.683128</td>\n",
       "      <td>2</td>\n",
       "      <td>3</td>\n",
       "      <td>...</td>\n",
       "      <td>0</td>\n",
       "      <td>0</td>\n",
       "      <td>0</td>\n",
       "      <td>0</td>\n",
       "      <td>0</td>\n",
       "      <td>0</td>\n",
       "      <td>1</td>\n",
       "      <td>0</td>\n",
       "      <td>0</td>\n",
       "      <td>0</td>\n",
       "    </tr>\n",
       "    <tr>\n",
       "      <th>4570773</th>\n",
       "      <td>1.2.250.1.204.5.8373722513.2016060516361290058...</td>\n",
       "      <td>465.628934</td>\n",
       "      <td>0.765714</td>\n",
       "      <td>1.305461</td>\n",
       "      <td>0.015577</td>\n",
       "      <td>0.045642</td>\n",
       "      <td>0.586069</td>\n",
       "      <td>0.765714</td>\n",
       "      <td>2</td>\n",
       "      <td>3</td>\n",
       "      <td>...</td>\n",
       "      <td>0</td>\n",
       "      <td>0</td>\n",
       "      <td>0</td>\n",
       "      <td>0</td>\n",
       "      <td>0</td>\n",
       "      <td>0</td>\n",
       "      <td>1</td>\n",
       "      <td>0</td>\n",
       "      <td>0</td>\n",
       "      <td>0</td>\n",
       "    </tr>\n",
       "  </tbody>\n",
       "</table>\n",
       "<p>5 rows × 68 columns</p>\n",
       "</div>"
      ],
      "text/plain": [
       "                                                     index  form_factor  \\\n",
       "key_0                                                                     \n",
       "4562943  1.2.250.1.204.5.8373722513.2016053115163325608...   497.025797   \n",
       "4562999  1.2.250.1.204.5.8373722513.2016060107595026328...   242.313876   \n",
       "4567784  1.2.250.1.204.5.8373722513.2016060508231863455...   646.455872   \n",
       "4562435  1.2.250.1.204.5.8373722513.2016060514055665388...   560.692873   \n",
       "4570773  1.2.250.1.204.5.8373722513.2016060516361290058...   465.628934   \n",
       "\n",
       "         aspect_ratio        ls       nrv       mcr      sENS      oDWR  mMU  \\\n",
       "key_0                                                                          \n",
       "4562943      0.581132  1.860344  0.096305  0.064734  0.590177  0.581132    2   \n",
       "4562999      0.666667  1.517867  0.039375  0.013549  0.596358  0.666667    2   \n",
       "4567784      0.626298  1.616658  0.035126  0.095081  0.573398  0.626298    2   \n",
       "4562435      0.683128  1.640397  0.019188  0.067247  0.510398  0.683128    2   \n",
       "4570773      0.765714  1.305461  0.015577  0.045642  0.586069  0.765714    2   \n",
       "\n",
       "         mMA  ...  J5  J6  BI-RADS 1  BI-RADS 2  BI-RADS 3  BI-RADS 4A  \\\n",
       "key_0         ...                                                        \n",
       "4562943    3  ...   0   0          0          0          0           0   \n",
       "4562999    3  ...   0   0          0          0          1           0   \n",
       "4567784    5  ...   0   0          0          0          0           1   \n",
       "4562435    3  ...   0   0          0          0          0           0   \n",
       "4570773    3  ...   0   0          0          0          0           0   \n",
       "\n",
       "         BI-RADS 4B  BI-RADS 4C  BI-RADS 5  BI-RADS 6  \n",
       "key_0                                                  \n",
       "4562943           1           0          0          0  \n",
       "4562999           0           0          0          0  \n",
       "4567784           0           0          0          0  \n",
       "4562435           1           0          0          0  \n",
       "4570773           1           0          0          0  \n",
       "\n",
       "[5 rows x 68 columns]"
      ]
     },
     "execution_count": 5,
     "metadata": {},
     "output_type": "execute_result"
    }
   ],
   "source": [
    "train_bqfeature = pd.merge(idqfeature,train_bfeature,left_on=idqfeature.index,right_on=train_bfeature.index,how='inner')\n",
    "train_bqfeature.set_index('key_0',inplace=True)\n",
    "train_bqfeature.head()"
   ]
  },
  {
   "cell_type": "code",
   "execution_count": 6,
   "id": "985e4b07",
   "metadata": {
    "collapsed": true,
    "jupyter": {
     "outputs_hidden": true
    }
   },
   "outputs": [
    {
     "name": "stdout",
     "output_type": "stream",
     "text": [
      "<class 'pandas.core.frame.DataFrame'>\n",
      "Int64Index: 2980 entries, 4562943 to 4711251\n",
      "Data columns (total 68 columns):\n",
      " #   Column        Non-Null Count  Dtype  \n",
      "---  ------        --------------  -----  \n",
      " 0   index         2980 non-null   object \n",
      " 1   form_factor   2980 non-null   float64\n",
      " 2   aspect_ratio  2980 non-null   float64\n",
      " 3   ls            2980 non-null   float64\n",
      " 4   nrv           2980 non-null   float64\n",
      " 5   mcr           2980 non-null   float64\n",
      " 6   sENS          2980 non-null   float64\n",
      " 7   oDWR          2980 non-null   float64\n",
      " 8   mMU           2980 non-null   int64  \n",
      " 9   mMA           2980 non-null   int64  \n",
      " 10  mMUA          2980 non-null   int64  \n",
      " 11  bLB10px       2980 non-null   float64\n",
      " 12  bLB25         2980 non-null   float64\n",
      " 13  bLB50         2980 non-null   float64\n",
      " 14  bLB100        2980 non-null   float64\n",
      " 15  bNRG          2980 non-null   float64\n",
      " 16  eEPi          2980 non-null   float64\n",
      " 17  eEPc          2980 non-null   float64\n",
      " 18  eACOR         2980 non-null   float64\n",
      " 19  PS_D          2980 non-null   float64\n",
      " 20  MSD           2980 non-null   float64\n",
      " 21  ER            498 non-null    float64\n",
      " 22  PR            494 non-null    float64\n",
      " 23  HER           486 non-null    float64\n",
      " 24  B             2980 non-null   int64  \n",
      " 25  M             2980 non-null   int64  \n",
      " 26  A1            2980 non-null   int64  \n",
      " 27  A2            2980 non-null   int64  \n",
      " 28  A3            2980 non-null   int64  \n",
      " 29  B1            2980 non-null   int64  \n",
      " 30  C1            2980 non-null   int64  \n",
      " 31  D1            2980 non-null   int64  \n",
      " 32  D2            2980 non-null   int64  \n",
      " 33  D3            2980 non-null   int64  \n",
      " 34  D4            2980 non-null   int64  \n",
      " 35  E1            2980 non-null   int64  \n",
      " 36  E2            2980 non-null   int64  \n",
      " 37  E3            2980 non-null   int64  \n",
      " 38  E4            2980 non-null   int64  \n",
      " 39  E5            2980 non-null   int64  \n",
      " 40  E6            2980 non-null   int64  \n",
      " 41  F1            2980 non-null   int64  \n",
      " 42  F2            2980 non-null   int64  \n",
      " 43  F3            2980 non-null   int64  \n",
      " 44  F4            2980 non-null   int64  \n",
      " 45  G1            2980 non-null   int64  \n",
      " 46  G2            2980 non-null   int64  \n",
      " 47  G3            2980 non-null   int64  \n",
      " 48  H1            2980 non-null   int64  \n",
      " 49  H2            2980 non-null   int64  \n",
      " 50  H3            2980 non-null   int64  \n",
      " 51  I1            2980 non-null   int64  \n",
      " 52  I2            2980 non-null   int64  \n",
      " 53  I3            2980 non-null   int64  \n",
      " 54  J1            2980 non-null   int64  \n",
      " 55  J2            2980 non-null   int64  \n",
      " 56  J3            2980 non-null   int64  \n",
      " 57  J4            2980 non-null   int64  \n",
      " 58  J5            2980 non-null   int64  \n",
      " 59  J6            2980 non-null   int64  \n",
      " 60  BI-RADS 1     2980 non-null   int64  \n",
      " 61  BI-RADS 2     2980 non-null   int64  \n",
      " 62  BI-RADS 3     2980 non-null   int64  \n",
      " 63  BI-RADS 4A    2980 non-null   int64  \n",
      " 64  BI-RADS 4B    2980 non-null   int64  \n",
      " 65  BI-RADS 4C    2980 non-null   int64  \n",
      " 66  BI-RADS 5     2980 non-null   int64  \n",
      " 67  BI-RADS 6     2980 non-null   int64  \n",
      "dtypes: float64(20), int64(47), object(1)\n",
      "memory usage: 1.6+ MB\n"
     ]
    }
   ],
   "source": [
    "train_bqfeature.info()"
   ]
  },
  {
   "cell_type": "code",
   "execution_count": 7,
   "id": "00020c02",
   "metadata": {
    "collapsed": true,
    "jupyter": {
     "outputs_hidden": true
    }
   },
   "outputs": [],
   "source": [
    "train_qfeature_ =train_bqfeature.iloc[:,1:21]"
   ]
  },
  {
   "cell_type": "code",
   "execution_count": 8,
   "id": "20291b62",
   "metadata": {
    "collapsed": true,
    "jupyter": {
     "outputs_hidden": true
    }
   },
   "outputs": [
    {
     "name": "stdout",
     "output_type": "stream",
     "text": [
      "<class 'pandas.core.frame.DataFrame'>\n",
      "Int64Index: 2980 entries, 4562943 to 4711251\n",
      "Data columns (total 20 columns):\n",
      " #   Column        Non-Null Count  Dtype  \n",
      "---  ------        --------------  -----  \n",
      " 0   form_factor   2980 non-null   float64\n",
      " 1   aspect_ratio  2980 non-null   float64\n",
      " 2   ls            2980 non-null   float64\n",
      " 3   nrv           2980 non-null   float64\n",
      " 4   mcr           2980 non-null   float64\n",
      " 5   sENS          2980 non-null   float64\n",
      " 6   oDWR          2980 non-null   float64\n",
      " 7   mMU           2980 non-null   int64  \n",
      " 8   mMA           2980 non-null   int64  \n",
      " 9   mMUA          2980 non-null   int64  \n",
      " 10  bLB10px       2980 non-null   float64\n",
      " 11  bLB25         2980 non-null   float64\n",
      " 12  bLB50         2980 non-null   float64\n",
      " 13  bLB100        2980 non-null   float64\n",
      " 14  bNRG          2980 non-null   float64\n",
      " 15  eEPi          2980 non-null   float64\n",
      " 16  eEPc          2980 non-null   float64\n",
      " 17  eACOR         2980 non-null   float64\n",
      " 18  PS_D          2980 non-null   float64\n",
      " 19  MSD           2980 non-null   float64\n",
      "dtypes: float64(17), int64(3)\n",
      "memory usage: 488.9 KB\n"
     ]
    }
   ],
   "source": [
    "train_qfeature_.info()"
   ]
  },
  {
   "cell_type": "code",
   "execution_count": 9,
   "id": "85e3bfc1",
   "metadata": {
    "collapsed": true,
    "jupyter": {
     "outputs_hidden": true
    }
   },
   "outputs": [
    {
     "data": {
      "text/plain": [
       "key_0\n",
       "4562943    1\n",
       "4562999    1\n",
       "4567784    0\n",
       "4562435    0\n",
       "4570773    1\n",
       "          ..\n",
       "4711008    0\n",
       "4711097    1\n",
       "4711097    1\n",
       "4711132    0\n",
       "4711251    1\n",
       "Name: B, Length: 2980, dtype: int64"
      ]
     },
     "execution_count": 9,
     "metadata": {},
     "output_type": "execute_result"
    }
   ],
   "source": [
    "train_target =train_bqfeature.B\n",
    "train_target"
   ]
  },
  {
   "cell_type": "code",
   "execution_count": 10,
   "id": "b5e0e1aa",
   "metadata": {
    "collapsed": true,
    "jupyter": {
     "outputs_hidden": true
    }
   },
   "outputs": [
    {
     "data": {
      "text/plain": [
       "1    2217\n",
       "0     763\n",
       "Name: B, dtype: int64"
      ]
     },
     "execution_count": 10,
     "metadata": {},
     "output_type": "execute_result"
    }
   ],
   "source": [
    "train_target.value_counts()"
   ]
  },
  {
   "cell_type": "code",
   "execution_count": 11,
   "id": "a592787f",
   "metadata": {
    "collapsed": true,
    "jupyter": {
     "outputs_hidden": true
    }
   },
   "outputs": [
    {
     "name": "stdout",
     "output_type": "stream",
     "text": [
      "<class 'pandas.core.frame.DataFrame'>\n",
      "Int64Index: 724 entries, 4565672 to 4667864\n",
      "Data columns (total 68 columns):\n",
      " #   Column        Non-Null Count  Dtype  \n",
      "---  ------        --------------  -----  \n",
      " 0   index         724 non-null    object \n",
      " 1   form_factor   724 non-null    float64\n",
      " 2   aspect_ratio  724 non-null    float64\n",
      " 3   ls            724 non-null    float64\n",
      " 4   nrv           724 non-null    float64\n",
      " 5   mcr           724 non-null    float64\n",
      " 6   sENS          724 non-null    float64\n",
      " 7   oDWR          724 non-null    float64\n",
      " 8   mMU           724 non-null    int64  \n",
      " 9   mMA           724 non-null    int64  \n",
      " 10  mMUA          724 non-null    int64  \n",
      " 11  bLB10px       724 non-null    float64\n",
      " 12  bLB25         724 non-null    float64\n",
      " 13  bLB50         724 non-null    float64\n",
      " 14  bLB100        724 non-null    float64\n",
      " 15  bNRG          724 non-null    float64\n",
      " 16  eEPi          724 non-null    float64\n",
      " 17  eEPc          724 non-null    float64\n",
      " 18  eACOR         724 non-null    float64\n",
      " 19  PS_D          724 non-null    float64\n",
      " 20  MSD           724 non-null    float64\n",
      " 21  ER            102 non-null    float64\n",
      " 22  PR            102 non-null    float64\n",
      " 23  HER           101 non-null    float64\n",
      " 24  B             724 non-null    int64  \n",
      " 25  M             724 non-null    int64  \n",
      " 26  A1            724 non-null    int64  \n",
      " 27  A2            724 non-null    int64  \n",
      " 28  A3            724 non-null    int64  \n",
      " 29  B1            724 non-null    int64  \n",
      " 30  C1            724 non-null    int64  \n",
      " 31  D1            724 non-null    int64  \n",
      " 32  D2            724 non-null    int64  \n",
      " 33  D3            724 non-null    int64  \n",
      " 34  D4            724 non-null    int64  \n",
      " 35  E1            724 non-null    int64  \n",
      " 36  E2            724 non-null    int64  \n",
      " 37  E3            724 non-null    int64  \n",
      " 38  E4            724 non-null    int64  \n",
      " 39  E5            724 non-null    int64  \n",
      " 40  E6            724 non-null    int64  \n",
      " 41  F1            724 non-null    int64  \n",
      " 42  F2            724 non-null    int64  \n",
      " 43  F3            724 non-null    int64  \n",
      " 44  F4            724 non-null    int64  \n",
      " 45  G1            724 non-null    int64  \n",
      " 46  G2            724 non-null    int64  \n",
      " 47  G3            724 non-null    int64  \n",
      " 48  H1            724 non-null    int64  \n",
      " 49  H2            724 non-null    int64  \n",
      " 50  H3            724 non-null    int64  \n",
      " 51  I1            724 non-null    int64  \n",
      " 52  I2            724 non-null    int64  \n",
      " 53  I3            724 non-null    int64  \n",
      " 54  J1            724 non-null    int64  \n",
      " 55  J2            724 non-null    int64  \n",
      " 56  J3            724 non-null    int64  \n",
      " 57  J4            724 non-null    int64  \n",
      " 58  J5            724 non-null    int64  \n",
      " 59  J6            724 non-null    int64  \n",
      " 60  BI-RADS 1     724 non-null    int64  \n",
      " 61  BI-RADS 2     724 non-null    int64  \n",
      " 62  BI-RADS 3     724 non-null    int64  \n",
      " 63  BI-RADS 4A    724 non-null    int64  \n",
      " 64  BI-RADS 4B    724 non-null    int64  \n",
      " 65  BI-RADS 4C    724 non-null    int64  \n",
      " 66  BI-RADS 5     724 non-null    int64  \n",
      " 67  BI-RADS 6     724 non-null    int64  \n",
      "dtypes: float64(20), int64(47), object(1)\n",
      "memory usage: 390.3+ KB\n"
     ]
    }
   ],
   "source": [
    "test_bqfeature = pd.merge(idqfeature,test_bfeature,left_on=idqfeature.index,right_on=test_bfeature.index,how='inner')\n",
    "test_bqfeature.set_index('key_0',inplace=True)\n",
    "test_bqfeature.info()"
   ]
  },
  {
   "cell_type": "code",
   "execution_count": 12,
   "id": "396a1c78",
   "metadata": {
    "collapsed": true,
    "jupyter": {
     "outputs_hidden": true
    }
   },
   "outputs": [],
   "source": [
    "test_qfeature_ =test_bqfeature.iloc[:,1:21]"
   ]
  },
  {
   "cell_type": "code",
   "execution_count": 13,
   "id": "577fa97b",
   "metadata": {
    "collapsed": true,
    "jupyter": {
     "outputs_hidden": true
    }
   },
   "outputs": [
    {
     "name": "stdout",
     "output_type": "stream",
     "text": [
      "<class 'pandas.core.frame.DataFrame'>\n",
      "Int64Index: 724 entries, 4565672 to 4667864\n",
      "Data columns (total 20 columns):\n",
      " #   Column        Non-Null Count  Dtype  \n",
      "---  ------        --------------  -----  \n",
      " 0   form_factor   724 non-null    float64\n",
      " 1   aspect_ratio  724 non-null    float64\n",
      " 2   ls            724 non-null    float64\n",
      " 3   nrv           724 non-null    float64\n",
      " 4   mcr           724 non-null    float64\n",
      " 5   sENS          724 non-null    float64\n",
      " 6   oDWR          724 non-null    float64\n",
      " 7   mMU           724 non-null    int64  \n",
      " 8   mMA           724 non-null    int64  \n",
      " 9   mMUA          724 non-null    int64  \n",
      " 10  bLB10px       724 non-null    float64\n",
      " 11  bLB25         724 non-null    float64\n",
      " 12  bLB50         724 non-null    float64\n",
      " 13  bLB100        724 non-null    float64\n",
      " 14  bNRG          724 non-null    float64\n",
      " 15  eEPi          724 non-null    float64\n",
      " 16  eEPc          724 non-null    float64\n",
      " 17  eACOR         724 non-null    float64\n",
      " 18  PS_D          724 non-null    float64\n",
      " 19  MSD           724 non-null    float64\n",
      "dtypes: float64(17), int64(3)\n",
      "memory usage: 118.8 KB\n"
     ]
    }
   ],
   "source": [
    "test_qfeature_.info()"
   ]
  },
  {
   "cell_type": "code",
   "execution_count": 14,
   "id": "feb1274b",
   "metadata": {
    "collapsed": true,
    "jupyter": {
     "outputs_hidden": true
    }
   },
   "outputs": [
    {
     "data": {
      "text/plain": [
       "key_0\n",
       "4565672    1\n",
       "4531808    1\n",
       "4567257    1\n",
       "4574285    1\n",
       "4562524    1\n",
       "          ..\n",
       "4608196    1\n",
       "4609469    1\n",
       "4612723    1\n",
       "4714387    1\n",
       "4667864    1\n",
       "Name: B, Length: 724, dtype: int64"
      ]
     },
     "execution_count": 14,
     "metadata": {},
     "output_type": "execute_result"
    }
   ],
   "source": [
    "test_target =test_bqfeature.B\n",
    "test_target"
   ]
  },
  {
   "cell_type": "code",
   "execution_count": 15,
   "id": "6b009ccd",
   "metadata": {
    "collapsed": true,
    "jupyter": {
     "outputs_hidden": true
    }
   },
   "outputs": [
    {
     "data": {
      "text/plain": [
       "1    546\n",
       "0    178\n",
       "Name: B, dtype: int64"
      ]
     },
     "execution_count": 15,
     "metadata": {},
     "output_type": "execute_result"
    }
   ],
   "source": [
    "test_target.value_counts()"
   ]
  },
  {
   "cell_type": "markdown",
   "id": "7195d99d",
   "metadata": {},
   "source": [
    "# Train the model"
   ]
  },
  {
   "cell_type": "code",
   "execution_count": 16,
   "id": "249e5e40",
   "metadata": {
    "collapsed": true,
    "jupyter": {
     "outputs_hidden": true
    }
   },
   "outputs": [],
   "source": [
    "from sklearn.linear_model import LogisticRegression\n",
    "from sklearn.svm import SVC\n",
    "from sklearn.ensemble import RandomForestClassifier\n",
    "from sklearn.preprocessing import StandardScaler\n",
    "from sklearn.model_selection import GridSearchCV,RandomizedSearchCV,cross_val_score\n",
    "from sklearn.metrics import plot_confusion_matrix, plot_roc_curve, plot_precision_recall_curve"
   ]
  },
  {
   "cell_type": "code",
   "execution_count": 17,
   "id": "27bf00f2",
   "metadata": {
    "collapsed": true,
    "jupyter": {
     "outputs_hidden": true
    }
   },
   "outputs": [],
   "source": [
    "sstransfer = StandardScaler()"
   ]
  },
  {
   "cell_type": "code",
   "execution_count": 18,
   "id": "e5d661e2",
   "metadata": {
    "collapsed": true,
    "jupyter": {
     "outputs_hidden": true
    }
   },
   "outputs": [],
   "source": [
    "train_qfeature_s = sstransfer.fit_transform(train_qfeature_)\n",
    "test_qfeature_s = sstransfer.transform(test_qfeature_)"
   ]
  },
  {
   "cell_type": "markdown",
   "id": "a95d20e2",
   "metadata": {},
   "source": [
    "# Multivariate analysis"
   ]
  },
  {
   "cell_type": "code",
   "execution_count": 19,
   "id": "6df6b8dd",
   "metadata": {
    "collapsed": true,
    "jupyter": {
     "outputs_hidden": true
    }
   },
   "outputs": [],
   "source": [
    "import statsmodels.api as sm"
   ]
  },
  {
   "cell_type": "code",
   "execution_count": 20,
   "id": "f274d10d",
   "metadata": {},
   "outputs": [],
   "source": [
    "X = sm.add_constant(train_qfeature_s)"
   ]
  },
  {
   "cell_type": "code",
   "execution_count": 21,
   "id": "4d7dc48c",
   "metadata": {
    "collapsed": true,
    "jupyter": {
     "outputs_hidden": true
    }
   },
   "outputs": [
    {
     "name": "stdout",
     "output_type": "stream",
     "text": [
      "Optimization terminated successfully.\n",
      "         Current function value: 0.445463\n",
      "         Iterations 8\n"
     ]
    }
   ],
   "source": [
    "model = sm.Logit(train_target, X)\n",
    "results = model.fit()"
   ]
  },
  {
   "cell_type": "code",
   "execution_count": 22,
   "id": "7bad467d",
   "metadata": {
    "collapsed": true,
    "jupyter": {
     "outputs_hidden": true
    }
   },
   "outputs": [
    {
     "data": {
      "text/html": [
       "<table class=\"simpletable\">\n",
       "<caption>Logit Regression Results</caption>\n",
       "<tr>\n",
       "  <th>Dep. Variable:</th>           <td>B</td>        <th>  No. Observations:  </th>   <td>  2980</td>  \n",
       "</tr>\n",
       "<tr>\n",
       "  <th>Model:</th>                 <td>Logit</td>      <th>  Df Residuals:      </th>   <td>  2961</td>  \n",
       "</tr>\n",
       "<tr>\n",
       "  <th>Method:</th>                 <td>MLE</td>       <th>  Df Model:          </th>   <td>    18</td>  \n",
       "</tr>\n",
       "<tr>\n",
       "  <th>Date:</th>            <td>Fri, 05 Nov 2021</td> <th>  Pseudo R-squ.:     </th>   <td>0.2169</td>  \n",
       "</tr>\n",
       "<tr>\n",
       "  <th>Time:</th>                <td>11:00:57</td>     <th>  Log-Likelihood:    </th>  <td> -1327.5</td> \n",
       "</tr>\n",
       "<tr>\n",
       "  <th>converged:</th>             <td>True</td>       <th>  LL-Null:           </th>  <td> -1695.2</td> \n",
       "</tr>\n",
       "<tr>\n",
       "  <th>Covariance Type:</th>     <td>nonrobust</td>    <th>  LLR p-value:       </th> <td>1.620e-144</td>\n",
       "</tr>\n",
       "</table>\n",
       "<table class=\"simpletable\">\n",
       "<tr>\n",
       "    <td></td>       <th>coef</th>     <th>std err</th>      <th>z</th>      <th>P>|z|</th>  <th>[0.025</th>    <th>0.975]</th>  \n",
       "</tr>\n",
       "<tr>\n",
       "  <th>const</th> <td>    1.4358</td> <td>    0.036</td> <td>   39.542</td> <td> 0.000</td> <td>    1.365</td> <td>    1.507</td>\n",
       "</tr>\n",
       "<tr>\n",
       "  <th>x1</th>    <td>   -1.1542</td> <td>    0.146</td> <td>   -7.917</td> <td> 0.000</td> <td>   -1.440</td> <td>   -0.868</td>\n",
       "</tr>\n",
       "<tr>\n",
       "  <th>x2</th>    <td>   -0.1560</td> <td>      nan</td> <td>      nan</td> <td>   nan</td> <td>      nan</td> <td>      nan</td>\n",
       "</tr>\n",
       "<tr>\n",
       "  <th>x3</th>    <td>    0.1651</td> <td>      nan</td> <td>      nan</td> <td>   nan</td> <td>      nan</td> <td>      nan</td>\n",
       "</tr>\n",
       "<tr>\n",
       "  <th>x4</th>    <td>   -0.3521</td> <td>      nan</td> <td>      nan</td> <td>   nan</td> <td>      nan</td> <td>      nan</td>\n",
       "</tr>\n",
       "<tr>\n",
       "  <th>x5</th>    <td>   -0.0549</td> <td>      nan</td> <td>      nan</td> <td>   nan</td> <td>      nan</td> <td>      nan</td>\n",
       "</tr>\n",
       "<tr>\n",
       "  <th>x6</th>    <td>    0.4619</td> <td>      nan</td> <td>      nan</td> <td>   nan</td> <td>      nan</td> <td>      nan</td>\n",
       "</tr>\n",
       "<tr>\n",
       "  <th>x7</th>    <td>   -0.1560</td> <td>      nan</td> <td>      nan</td> <td>   nan</td> <td>      nan</td> <td>      nan</td>\n",
       "</tr>\n",
       "<tr>\n",
       "  <th>x8</th>    <td>   -0.0402</td> <td>      nan</td> <td>      nan</td> <td>   nan</td> <td>      nan</td> <td>      nan</td>\n",
       "</tr>\n",
       "<tr>\n",
       "  <th>x9</th>    <td>   -0.0958</td> <td> 6.37e+06</td> <td> -1.5e-08</td> <td> 1.000</td> <td>-1.25e+07</td> <td> 1.25e+07</td>\n",
       "</tr>\n",
       "<tr>\n",
       "  <th>x10</th>   <td>   -0.0894</td> <td> 9.59e+06</td> <td>-9.33e-09</td> <td> 1.000</td> <td>-1.88e+07</td> <td> 1.88e+07</td>\n",
       "</tr>\n",
       "<tr>\n",
       "  <th>x11</th>   <td>    0.2105</td> <td>    0.185</td> <td>    1.137</td> <td> 0.255</td> <td>   -0.152</td> <td>    0.573</td>\n",
       "</tr>\n",
       "<tr>\n",
       "  <th>x12</th>   <td>    0.4675</td> <td>    0.426</td> <td>    1.098</td> <td> 0.272</td> <td>   -0.367</td> <td>    1.302</td>\n",
       "</tr>\n",
       "<tr>\n",
       "  <th>x13</th>   <td>    0.0190</td> <td>    0.484</td> <td>    0.039</td> <td> 0.969</td> <td>   -0.929</td> <td>    0.967</td>\n",
       "</tr>\n",
       "<tr>\n",
       "  <th>x14</th>   <td>   -0.0668</td> <td>    0.271</td> <td>   -0.246</td> <td> 0.806</td> <td>   -0.599</td> <td>    0.465</td>\n",
       "</tr>\n",
       "<tr>\n",
       "  <th>x15</th>   <td>   -0.4362</td> <td>    0.088</td> <td>   -4.938</td> <td> 0.000</td> <td>   -0.609</td> <td>   -0.263</td>\n",
       "</tr>\n",
       "<tr>\n",
       "  <th>x16</th>   <td>    0.2756</td> <td>    0.201</td> <td>    1.374</td> <td> 0.169</td> <td>   -0.118</td> <td>    0.669</td>\n",
       "</tr>\n",
       "<tr>\n",
       "  <th>x17</th>   <td>    0.1754</td> <td>    0.173</td> <td>    1.013</td> <td> 0.311</td> <td>   -0.164</td> <td>    0.515</td>\n",
       "</tr>\n",
       "<tr>\n",
       "  <th>x18</th>   <td>   -0.3263</td> <td>    0.101</td> <td>   -3.220</td> <td> 0.001</td> <td>   -0.525</td> <td>   -0.128</td>\n",
       "</tr>\n",
       "<tr>\n",
       "  <th>x19</th>   <td>   -0.0242</td> <td>    0.087</td> <td>   -0.279</td> <td> 0.780</td> <td>   -0.194</td> <td>    0.146</td>\n",
       "</tr>\n",
       "<tr>\n",
       "  <th>x20</th>   <td>    0.1902</td> <td>    0.024</td> <td>    8.077</td> <td> 0.000</td> <td>    0.144</td> <td>    0.236</td>\n",
       "</tr>\n",
       "</table>"
      ],
      "text/plain": [
       "<class 'statsmodels.iolib.summary.Summary'>\n",
       "\"\"\"\n",
       "                           Logit Regression Results                           \n",
       "==============================================================================\n",
       "Dep. Variable:                      B   No. Observations:                 2980\n",
       "Model:                          Logit   Df Residuals:                     2961\n",
       "Method:                           MLE   Df Model:                           18\n",
       "Date:                Fri, 05 Nov 2021   Pseudo R-squ.:                  0.2169\n",
       "Time:                        11:00:57   Log-Likelihood:                -1327.5\n",
       "converged:                       True   LL-Null:                       -1695.2\n",
       "Covariance Type:            nonrobust   LLR p-value:                1.620e-144\n",
       "==============================================================================\n",
       "                 coef    std err          z      P>|z|      [0.025      0.975]\n",
       "------------------------------------------------------------------------------\n",
       "const          1.4358      0.036     39.542      0.000       1.365       1.507\n",
       "x1            -1.1542      0.146     -7.917      0.000      -1.440      -0.868\n",
       "x2            -0.1560        nan        nan        nan         nan         nan\n",
       "x3             0.1651        nan        nan        nan         nan         nan\n",
       "x4            -0.3521        nan        nan        nan         nan         nan\n",
       "x5            -0.0549        nan        nan        nan         nan         nan\n",
       "x6             0.4619        nan        nan        nan         nan         nan\n",
       "x7            -0.1560        nan        nan        nan         nan         nan\n",
       "x8            -0.0402        nan        nan        nan         nan         nan\n",
       "x9            -0.0958   6.37e+06   -1.5e-08      1.000   -1.25e+07    1.25e+07\n",
       "x10           -0.0894   9.59e+06  -9.33e-09      1.000   -1.88e+07    1.88e+07\n",
       "x11            0.2105      0.185      1.137      0.255      -0.152       0.573\n",
       "x12            0.4675      0.426      1.098      0.272      -0.367       1.302\n",
       "x13            0.0190      0.484      0.039      0.969      -0.929       0.967\n",
       "x14           -0.0668      0.271     -0.246      0.806      -0.599       0.465\n",
       "x15           -0.4362      0.088     -4.938      0.000      -0.609      -0.263\n",
       "x16            0.2756      0.201      1.374      0.169      -0.118       0.669\n",
       "x17            0.1754      0.173      1.013      0.311      -0.164       0.515\n",
       "x18           -0.3263      0.101     -3.220      0.001      -0.525      -0.128\n",
       "x19           -0.0242      0.087     -0.279      0.780      -0.194       0.146\n",
       "x20            0.1902      0.024      8.077      0.000       0.144       0.236\n",
       "==============================================================================\n",
       "\"\"\""
      ]
     },
     "execution_count": 22,
     "metadata": {},
     "output_type": "execute_result"
    }
   ],
   "source": [
    "results.summary()"
   ]
  },
  {
   "cell_type": "markdown",
   "id": "11696017",
   "metadata": {},
   "source": [
    "# LG"
   ]
  },
  {
   "cell_type": "code",
   "execution_count": 23,
   "id": "31a5cb2b",
   "metadata": {
    "collapsed": true,
    "jupyter": {
     "outputs_hidden": true
    }
   },
   "outputs": [],
   "source": [
    "log = LogisticRegression(solver='newton-cg',random_state=99, penalty='none')"
   ]
  },
  {
   "cell_type": "code",
   "execution_count": 24,
   "id": "5a232c48",
   "metadata": {
    "collapsed": true,
    "jupyter": {
     "outputs_hidden": true
    }
   },
   "outputs": [
    {
     "data": {
      "text/plain": [
       "LogisticRegression(penalty='none', random_state=99, solver='newton-cg')"
      ]
     },
     "execution_count": 24,
     "metadata": {},
     "output_type": "execute_result"
    }
   ],
   "source": [
    "log.fit(train_qfeature_s, train_target)"
   ]
  },
  {
   "cell_type": "code",
   "execution_count": 25,
   "id": "3aa1b212",
   "metadata": {
    "collapsed": true,
    "jupyter": {
     "outputs_hidden": true
    }
   },
   "outputs": [
    {
     "data": {
      "text/plain": [
       "array([[-1.15421143, -0.15604902,  0.16506578, -0.35207881, -0.05490075,\n",
       "         0.46187406, -0.15604902, -0.04018542, -0.09578756, -0.08943542,\n",
       "         0.21047625,  0.46745661,  0.01899005, -0.06676762, -0.43618305,\n",
       "         0.27557187,  0.17543248, -0.32634723, -0.02415511,  0.19022332]])"
      ]
     },
     "execution_count": 25,
     "metadata": {},
     "output_type": "execute_result"
    }
   ],
   "source": [
    "log.coef_"
   ]
  },
  {
   "cell_type": "code",
   "execution_count": 26,
   "id": "e171cc1d",
   "metadata": {
    "collapsed": true,
    "jupyter": {
     "outputs_hidden": true
    }
   },
   "outputs": [
    {
     "data": {
      "text/plain": [
       "array([1.43582586])"
      ]
     },
     "execution_count": 26,
     "metadata": {},
     "output_type": "execute_result"
    }
   ],
   "source": [
    "log.intercept_"
   ]
  },
  {
   "cell_type": "code",
   "execution_count": 27,
   "id": "5dc6e9a1",
   "metadata": {
    "collapsed": true,
    "jupyter": {
     "outputs_hidden": true
    }
   },
   "outputs": [
    {
     "data": {
      "text/plain": [
       "0.7916107382550336"
      ]
     },
     "execution_count": 27,
     "metadata": {},
     "output_type": "execute_result"
    }
   ],
   "source": [
    "log.score(train_qfeature_s,train_target)"
   ]
  },
  {
   "cell_type": "code",
   "execution_count": 28,
   "id": "2e5c0a6c",
   "metadata": {
    "collapsed": true,
    "jupyter": {
     "outputs_hidden": true
    }
   },
   "outputs": [
    {
     "data": {
      "text/plain": [
       "0.7831491712707183"
      ]
     },
     "execution_count": 28,
     "metadata": {},
     "output_type": "execute_result"
    }
   ],
   "source": [
    "log.score(test_qfeature_s,test_target)"
   ]
  },
  {
   "cell_type": "code",
   "execution_count": 29,
   "id": "57d24f47",
   "metadata": {
    "collapsed": true,
    "jupyter": {
     "outputs_hidden": true
    }
   },
   "outputs": [
    {
     "name": "stderr",
     "output_type": "stream",
     "text": [
      "D:\\Users\\lihaiyang\\anaconda3\\lib\\site-packages\\sklearn\\utils\\deprecation.py:87: FutureWarning: Function plot_roc_curve is deprecated; Function `plot_roc_curve` is deprecated in 1.0 and will be removed in 1.2. Use one of the class methods: RocCurveDisplay.from_predictions or RocCurveDisplay.from_estimator.\n",
      "  warnings.warn(msg, category=FutureWarning)\n"
     ]
    },
    {
     "data": {
      "text/plain": [
       "<sklearn.metrics._plot.roc_curve.RocCurveDisplay at 0x19bcaccc860>"
      ]
     },
     "execution_count": 29,
     "metadata": {},
     "output_type": "execute_result"
    },
    {
     "data": {
      "image/png": "[encoded data removed]",
      "text/plain": [
       "<Figure size 432x288 with 1 Axes>"
      ]
     },
     "metadata": {
      "needs_background": "light"
     },
     "output_type": "display_data"
    }
   ],
   "source": [
    "plot_roc_curve(log, test_qfeature_s, test_target)"
   ]
  },
  {
   "cell_type": "code",
   "execution_count": 30,
   "id": "292d6314",
   "metadata": {
    "collapsed": true,
    "jupyter": {
     "outputs_hidden": true
    }
   },
   "outputs": [
    {
     "name": "stderr",
     "output_type": "stream",
     "text": [
      "D:\\Users\\lihaiyang\\anaconda3\\lib\\site-packages\\sklearn\\utils\\deprecation.py:87: FutureWarning: Function plot_precision_recall_curve is deprecated; Function `plot_precision_recall_curve` is deprecated in 1.0 and will be removed in 1.2. Use one of the class methods: PrecisionRecallDisplay.from_predictions or PrecisionRecallDisplay.from_estimator.\n",
      "  warnings.warn(msg, category=FutureWarning)\n"
     ]
    },
    {
     "data": {
      "text/plain": [
       "<sklearn.metrics._plot.precision_recall_curve.PrecisionRecallDisplay at 0x19bc7287e10>"
      ]
     },
     "execution_count": 30,
     "metadata": {},
     "output_type": "execute_result"
    },
    {
     "data": {
      "image/png": "[encoded data removed]",
      "text/plain": [
       "<Figure size 432x288 with 1 Axes>"
      ]
     },
     "metadata": {
      "needs_background": "light"
     },
     "output_type": "display_data"
    }
   ],
   "source": [
    "plot_precision_recall_curve(log, test_qfeature_s, test_target)"
   ]
  },
  {
   "cell_type": "markdown",
   "id": "aab48e73",
   "metadata": {},
   "source": [
    "# LASSO"
   ]
  },
  {
   "cell_type": "code",
   "execution_count": 31,
   "id": "8a5bba4c",
   "metadata": {
    "collapsed": true,
    "jupyter": {
     "outputs_hidden": true
    }
   },
   "outputs": [],
   "source": [
    "param_grid={'C': np.logspace(-3,3,1000)}"
   ]
  },
  {
   "cell_type": "code",
   "execution_count": 32,
   "id": "0128d7c3",
   "metadata": {
    "collapsed": true,
    "jupyter": {
     "outputs_hidden": true
    }
   },
   "outputs": [],
   "source": [
    "log_l1 = LogisticRegression(solver='liblinear',random_state=99,penalty='l1')"
   ]
  },
  {
   "cell_type": "code",
   "execution_count": 33,
   "id": "4b543291",
   "metadata": {
    "collapsed": true,
    "jupyter": {
     "outputs_hidden": true
    }
   },
   "outputs": [],
   "source": [
    "grid_search = GridSearchCV(log_l1, param_grid)"
   ]
  },
  {
   "cell_type": "code",
   "execution_count": 34,
   "id": "448ab041",
   "metadata": {
    "collapsed": true,
    "jupyter": {
     "outputs_hidden": true
    }
   },
   "outputs": [
    {
     "data": {
      "text/plain": [
       "GridSearchCV(estimator=LogisticRegression(penalty='l1', random_state=99,\n",
       "                                          solver='liblinear'),\n",
       "             param_grid={'C': array([1.00000000e-03, 1.01392541e-03, 1.02804473e-03, 1.04236067e-03,\n",
       "       1.05687597e-03, 1.07159340e-03, 1.08651577e-03, 1.10164595e-03,\n",
       "       1.11698682e-03, 1.13254132e-03, 1.14831241e-03, 1.16430313e-03,\n",
       "       1.18051653e-03, 1.19695570e-03, 1.21362380e-03, 1.23052400e...\n",
       "       7.27548353e+02, 7.37679760e+02, 7.47952252e+02, 7.58367791e+02,\n",
       "       7.68928372e+02, 7.79636013e+02, 7.90492762e+02, 8.01500696e+02,\n",
       "       8.12661920e+02, 8.23978568e+02, 8.35452806e+02, 8.47086827e+02,\n",
       "       8.58882856e+02, 8.70843150e+02, 8.82969996e+02, 8.95265713e+02,\n",
       "       9.07732653e+02, 9.20373200e+02, 9.33189772e+02, 9.46184819e+02,\n",
       "       9.59360829e+02, 9.72720319e+02, 9.86265846e+02, 1.00000000e+03])})"
      ]
     },
     "execution_count": 34,
     "metadata": {},
     "output_type": "execute_result"
    }
   ],
   "source": [
    "grid_search.fit(train_qfeature_s, train_target)"
   ]
  },
  {
   "cell_type": "code",
   "execution_count": 35,
   "id": "dbc70b0d",
   "metadata": {
    "collapsed": true,
    "jupyter": {
     "outputs_hidden": true
    }
   },
   "outputs": [
    {
     "data": {
      "text/plain": [
       "{'C': 0.21395888713434216}"
      ]
     },
     "execution_count": 35,
     "metadata": {},
     "output_type": "execute_result"
    }
   ],
   "source": [
    "grid_search.best_params_"
   ]
  },
  {
   "cell_type": "code",
   "execution_count": 36,
   "id": "9f0afa85",
   "metadata": {
    "collapsed": true,
    "jupyter": {
     "outputs_hidden": true
    }
   },
   "outputs": [
    {
     "data": {
      "text/plain": [
       "0.7812080536912751"
      ]
     },
     "execution_count": 36,
     "metadata": {},
     "output_type": "execute_result"
    }
   ],
   "source": [
    "grid_search.best_score_"
   ]
  },
  {
   "cell_type": "code",
   "execution_count": 37,
   "id": "a3b9c880",
   "metadata": {
    "collapsed": true,
    "jupyter": {
     "outputs_hidden": true
    }
   },
   "outputs": [
    {
     "data": {
      "text/plain": [
       "0.7803867403314917"
      ]
     },
     "execution_count": 37,
     "metadata": {},
     "output_type": "execute_result"
    }
   ],
   "source": [
    "grid_search.best_estimator_.score(test_qfeature_s, test_target)"
   ]
  },
  {
   "cell_type": "code",
   "execution_count": 38,
   "id": "5f0135f4",
   "metadata": {
    "collapsed": true,
    "jupyter": {
     "outputs_hidden": true
    }
   },
   "outputs": [],
   "source": [
    "lasso_qfeature = grid_search.best_estimator_.coef_!=0\n",
    "lasso_qfeature = lasso_qfeature.reshape(lasso_qfeature.shape[1])"
   ]
  },
  {
   "cell_type": "code",
   "execution_count": 39,
   "id": "e7d61d5d",
   "metadata": {
    "collapsed": true,
    "jupyter": {
     "outputs_hidden": true
    }
   },
   "outputs": [
    {
     "data": {
      "text/plain": [
       "array([ True,  True,  True,  True, False,  True,  True,  True, False,\n",
       "        True,  True,  True, False, False,  True,  True,  True,  True,\n",
       "       False,  True])"
      ]
     },
     "execution_count": 39,
     "metadata": {},
     "output_type": "execute_result"
    }
   ],
   "source": [
    "lasso_qfeature"
   ]
  },
  {
   "cell_type": "code",
   "execution_count": 40,
   "id": "e8aa8ee5",
   "metadata": {
    "collapsed": true,
    "jupyter": {
     "outputs_hidden": true
    }
   },
   "outputs": [
    {
     "data": {
      "text/plain": [
       "Index(['form_factor', 'aspect_ratio', 'ls', 'nrv', 'sENS', 'oDWR', 'mMU',\n",
       "       'mMUA', 'bLB10px', 'bLB25', 'bNRG', 'eEPi', 'eEPc', 'eACOR', 'MSD'],\n",
       "      dtype='object')"
      ]
     },
     "execution_count": 40,
     "metadata": {},
     "output_type": "execute_result"
    }
   ],
   "source": [
    "train_qfeature_.columns[lasso_qfeature]"
   ]
  },
  {
   "cell_type": "code",
   "execution_count": 41,
   "id": "9bfd381b",
   "metadata": {
    "collapsed": true,
    "jupyter": {
     "outputs_hidden": true
    }
   },
   "outputs": [],
   "source": [
    "train_qfeature__ = train_qfeature_.columns[lasso_qfeature]\n",
    "train_qfeature__ = train_qfeature_[train_qfeature__]"
   ]
  },
  {
   "cell_type": "code",
   "execution_count": 42,
   "id": "9d4b3b3f",
   "metadata": {
    "collapsed": true,
    "jupyter": {
     "outputs_hidden": true
    }
   },
   "outputs": [],
   "source": [
    "test_qfeature__ = test_qfeature_.columns[lasso_qfeature]\n",
    "test_qfeature__ = test_qfeature_[test_qfeature__]"
   ]
  },
  {
   "cell_type": "code",
   "execution_count": 43,
   "id": "70e8cba1",
   "metadata": {
    "collapsed": true,
    "jupyter": {
     "outputs_hidden": true
    }
   },
   "outputs": [],
   "source": [
    "train_qfeature__s = sstransfer.fit_transform(train_qfeature__)\n",
    "test_qfeature__s = sstransfer.transform(test_qfeature__)"
   ]
  },
  {
   "cell_type": "code",
   "execution_count": 44,
   "id": "12cfe42c",
   "metadata": {
    "collapsed": true,
    "jupyter": {
     "outputs_hidden": true
    }
   },
   "outputs": [],
   "source": [
    "log_ = LogisticRegression(solver='newton-cg',random_state=99, penalty='none')"
   ]
  },
  {
   "cell_type": "code",
   "execution_count": 45,
   "id": "0dabbe90",
   "metadata": {
    "collapsed": true,
    "jupyter": {
     "outputs_hidden": true
    }
   },
   "outputs": [
    {
     "data": {
      "text/plain": [
       "LogisticRegression(penalty='none', random_state=99, solver='newton-cg')"
      ]
     },
     "execution_count": 45,
     "metadata": {},
     "output_type": "execute_result"
    }
   ],
   "source": [
    "log_.fit(train_qfeature__s, train_target)"
   ]
  },
  {
   "cell_type": "code",
   "execution_count": 46,
   "id": "c2a69aea",
   "metadata": {
    "collapsed": true,
    "jupyter": {
     "outputs_hidden": true
    }
   },
   "outputs": [
    {
     "data": {
      "text/plain": [
       "array([[-1.18168307, -0.15513478,  0.15959464, -0.35162241,  0.45714477,\n",
       "        -0.15513478, -0.00417968, -0.20525926,  0.19576245,  0.42883355,\n",
       "        -0.41996764,  0.27403346,  0.15847108, -0.34769768,  0.1749942 ]])"
      ]
     },
     "execution_count": 46,
     "metadata": {},
     "output_type": "execute_result"
    }
   ],
   "source": [
    "log_.coef_"
   ]
  },
  {
   "cell_type": "code",
   "execution_count": 47,
   "id": "a7c42d5e",
   "metadata": {
    "collapsed": true,
    "jupyter": {
     "outputs_hidden": true
    }
   },
   "outputs": [
    {
     "data": {
      "text/plain": [
       "0.7885906040268457"
      ]
     },
     "execution_count": 47,
     "metadata": {},
     "output_type": "execute_result"
    }
   ],
   "source": [
    "log_.score(train_qfeature__s,train_target)"
   ]
  },
  {
   "cell_type": "code",
   "execution_count": 48,
   "id": "8d369ca8",
   "metadata": {
    "collapsed": true,
    "jupyter": {
     "outputs_hidden": true
    }
   },
   "outputs": [
    {
     "data": {
      "text/plain": [
       "0.787292817679558"
      ]
     },
     "execution_count": 48,
     "metadata": {},
     "output_type": "execute_result"
    }
   ],
   "source": [
    "log_.score(test_qfeature__s,test_target)"
   ]
  },
  {
   "cell_type": "markdown",
   "id": "7436d2e5",
   "metadata": {},
   "source": [
    "# SVM"
   ]
  },
  {
   "cell_type": "code",
   "execution_count": 49,
   "id": "c134d080",
   "metadata": {
    "collapsed": true,
    "jupyter": {
     "outputs_hidden": true
    }
   },
   "outputs": [],
   "source": [
    "svc_clf = SVC()"
   ]
  },
  {
   "cell_type": "code",
   "execution_count": 50,
   "id": "78e5af14",
   "metadata": {
    "collapsed": true,
    "jupyter": {
     "outputs_hidden": true
    }
   },
   "outputs": [],
   "source": [
    "param_distributions={'C': np.logspace(-3,3,1000),'gamma': np.logspace(-3,3,1000), 'kernel': ['linear', 'rbf']}"
   ]
  },
  {
   "cell_type": "code",
   "execution_count": 51,
   "id": "96fe1f76",
   "metadata": {
    "collapsed": true,
    "jupyter": {
     "outputs_hidden": true
    }
   },
   "outputs": [],
   "source": [
    "random_search =RandomizedSearchCV(svc_clf, param_distributions,n_iter=10000)"
   ]
  },
  {
   "cell_type": "code",
   "execution_count": 52,
   "id": "007af88f",
   "metadata": {},
   "outputs": [
    {
     "data": {
      "text/plain": [
       "RandomizedSearchCV(estimator=SVC(), n_iter=10000,\n",
       "                   param_distributions={'C': array([1.00000000e-03, 1.01392541e-03, 1.02804473e-03, 1.04236067e-03,\n",
       "       1.05687597e-03, 1.07159340e-03, 1.08651577e-03, 1.10164595e-03,\n",
       "       1.11698682e-03, 1.13254132e-03, 1.14831241e-03, 1.16430313e-03,\n",
       "       1.18051653e-03, 1.19695570e-03, 1.21362380e-03, 1.23052400e-03,\n",
       "       1.24765955e-03, 1.26503372e-03,...\n",
       "       7.27548353e+02, 7.37679760e+02, 7.47952252e+02, 7.58367791e+02,\n",
       "       7.68928372e+02, 7.79636013e+02, 7.90492762e+02, 8.01500696e+02,\n",
       "       8.12661920e+02, 8.23978568e+02, 8.35452806e+02, 8.47086827e+02,\n",
       "       8.58882856e+02, 8.70843150e+02, 8.82969996e+02, 8.95265713e+02,\n",
       "       9.07732653e+02, 9.20373200e+02, 9.33189772e+02, 9.46184819e+02,\n",
       "       9.59360829e+02, 9.72720319e+02, 9.86265846e+02, 1.00000000e+03]),\n",
       "                                        'kernel': ['linear', 'rbf']})"
      ]
     },
     "execution_count": 52,
     "metadata": {},
     "output_type": "execute_result"
    }
   ],
   "source": [
    "random_search.fit(train_qfeature__s,train_target)"
   ]
  },
  {
   "cell_type": "code",
   "execution_count": 53,
   "id": "47dc7f7b",
   "metadata": {},
   "outputs": [
    {
     "data": {
      "text/plain": [
       "{'kernel': 'rbf', 'gamma': 0.04126820845702954, 'C': 0.6292146109610344}"
      ]
     },
     "execution_count": 53,
     "metadata": {},
     "output_type": "execute_result"
    }
   ],
   "source": [
    "random_search.best_params_"
   ]
  },
  {
   "cell_type": "code",
   "execution_count": 54,
   "id": "1aea86be",
   "metadata": {
    "collapsed": true,
    "jupyter": {
     "outputs_hidden": true
    }
   },
   "outputs": [
    {
     "data": {
      "text/plain": [
       "0.784228187919463"
      ]
     },
     "execution_count": 54,
     "metadata": {},
     "output_type": "execute_result"
    }
   ],
   "source": [
    "random_search.best_score_"
   ]
  },
  {
   "cell_type": "code",
   "execution_count": 55,
   "id": "146a4943",
   "metadata": {
    "collapsed": true,
    "jupyter": {
     "outputs_hidden": true
    }
   },
   "outputs": [
    {
     "data": {
      "text/plain": [
       "SVC(C=0.6292146109610344, gamma=0.04126820845702954)"
      ]
     },
     "execution_count": 55,
     "metadata": {},
     "output_type": "execute_result"
    }
   ],
   "source": [
    "random_search.best_estimator_"
   ]
  },
  {
   "cell_type": "code",
   "execution_count": 57,
   "id": "cd046ac5",
   "metadata": {
    "collapsed": true,
    "jupyter": {
     "outputs_hidden": true
    }
   },
   "outputs": [
    {
     "data": {
      "text/plain": [
       "0.7900552486187845"
      ]
     },
     "execution_count": 57,
     "metadata": {},
     "output_type": "execute_result"
    }
   ],
   "source": [
    "random_search.best_estimator_.score(test_qfeature__s,test_target)"
   ]
  },
  {
   "cell_type": "markdown",
   "id": "4e58fc67",
   "metadata": {},
   "source": [
    "# RF"
   ]
  },
  {
   "cell_type": "code",
   "execution_count": 58,
   "id": "056d2014",
   "metadata": {
    "collapsed": true,
    "jupyter": {
     "outputs_hidden": true
    }
   },
   "outputs": [],
   "source": [
    "from sklearn.ensemble import RandomForestClassifier"
   ]
  },
  {
   "cell_type": "code",
   "execution_count": 59,
   "id": "86fdaee9",
   "metadata": {
    "collapsed": true,
    "jupyter": {
     "outputs_hidden": true
    }
   },
   "outputs": [],
   "source": [
    "rfc_clf = RandomForestClassifier(n_estimators=500,random_state=99,min_samples_split=10,min_samples_leaf=10)"
   ]
  },
  {
   "cell_type": "code",
   "execution_count": 60,
   "id": "7f445c24",
   "metadata": {
    "collapsed": true,
    "jupyter": {
     "outputs_hidden": true
    }
   },
   "outputs": [
    {
     "data": {
      "text/plain": [
       "RandomForestClassifier(min_samples_leaf=10, min_samples_split=10,\n",
       "                       n_estimators=500, random_state=99)"
      ]
     },
     "execution_count": 60,
     "metadata": {},
     "output_type": "execute_result"
    }
   ],
   "source": [
    "rfc_clf.fit(train_qfeature__s,train_target)"
   ]
  },
  {
   "cell_type": "code",
   "execution_count": 61,
   "id": "d07221f3",
   "metadata": {
    "collapsed": true,
    "jupyter": {
     "outputs_hidden": true
    }
   },
   "outputs": [
    {
     "data": {
      "text/plain": [
       "0.863758389261745"
      ]
     },
     "execution_count": 61,
     "metadata": {},
     "output_type": "execute_result"
    }
   ],
   "source": [
    "rfc_clf.score(train_qfeature__s,train_target)"
   ]
  },
  {
   "cell_type": "code",
   "execution_count": 64,
   "id": "7fe44aa3",
   "metadata": {
    "collapsed": true,
    "jupyter": {
     "outputs_hidden": true
    }
   },
   "outputs": [
    {
     "data": {
      "text/plain": [
       "0.7969613259668509"
      ]
     },
     "execution_count": 64,
     "metadata": {},
     "output_type": "execute_result"
    }
   ],
   "source": [
    "rfc_clf.score(test_qfeature__s,test_target)"
   ]
  },
  {
   "cell_type": "code",
   "execution_count": 65,
   "id": "13b86d22",
   "metadata": {
    "collapsed": true,
    "jupyter": {
     "outputs_hidden": true
    }
   },
   "outputs": [],
   "source": [
    "rfc_clf_ = RandomForestClassifier(n_estimators=500,random_state=99)"
   ]
  },
  {
   "cell_type": "code",
   "execution_count": 66,
   "id": "b74a245e",
   "metadata": {
    "collapsed": true,
    "jupyter": {
     "outputs_hidden": true
    }
   },
   "outputs": [],
   "source": [
    "param_grid_={'min_samples_split': np.arange(1,21),'min_samples_leaf': np.arange(1,21)}"
   ]
  },
  {
   "cell_type": "code",
   "execution_count": 67,
   "id": "20e4c914",
   "metadata": {
    "collapsed": true,
    "jupyter": {
     "outputs_hidden": true
    }
   },
   "outputs": [],
   "source": [
    "grid_search__ = GridSearchCV(rfc_clf_, param_grid_)"
   ]
  },
  {
   "cell_type": "code",
   "execution_count": 68,
   "id": "18d0a595",
   "metadata": {
    "collapsed": true,
    "jupyter": {
     "outputs_hidden": true
    }
   },
   "outputs": [
    {
     "name": "stderr",
     "output_type": "stream",
     "text": [
      "D:\\Users\\lihaiyang\\anaconda3\\lib\\site-packages\\sklearn\\model_selection\\_validation.py:372: FitFailedWarning: \n",
      "100 fits failed out of a total of 2000.\n",
      "The score on these train-test partitions for these parameters will be set to nan.\n",
      "If these failures are not expected, you can try to debug them by setting error_score='raise'.\n",
      "\n",
      "Below are more details about the failures:\n",
      "--------------------------------------------------------------------------------\n",
      "100 fits failed with the following error:\n",
      "Traceback (most recent call last):\n",
      "  File \"D:\\Users\\lihaiyang\\anaconda3\\lib\\site-packages\\sklearn\\model_selection\\_validation.py\", line 681, in _fit_and_score\n",
      "    estimator.fit(X_train, y_train, **fit_params)\n",
      "  File \"D:\\Users\\lihaiyang\\anaconda3\\lib\\site-packages\\sklearn\\ensemble\\_forest.py\", line 458, in fit\n",
      "    for i, t in enumerate(trees)\n",
      "  File \"D:\\Users\\lihaiyang\\anaconda3\\lib\\site-packages\\joblib\\parallel.py\", line 1041, in __call__\n",
      "    if self.dispatch_one_batch(iterator):\n",
      "  File \"D:\\Users\\lihaiyang\\anaconda3\\lib\\site-packages\\joblib\\parallel.py\", line 859, in dispatch_one_batch\n",
      "    self._dispatch(tasks)\n",
      "  File \"D:\\Users\\lihaiyang\\anaconda3\\lib\\site-packages\\joblib\\parallel.py\", line 777, in _dispatch\n",
      "    job = self._backend.apply_async(batch, callback=cb)\n",
      "  File \"D:\\Users\\lihaiyang\\anaconda3\\lib\\site-packages\\joblib\\_parallel_backends.py\", line 208, in apply_async\n",
      "    result = ImmediateResult(func)\n",
      "  File \"D:\\Users\\lihaiyang\\anaconda3\\lib\\site-packages\\joblib\\_parallel_backends.py\", line 572, in __init__\n",
      "    self.results = batch()\n",
      "  File \"D:\\Users\\lihaiyang\\anaconda3\\lib\\site-packages\\joblib\\parallel.py\", line 263, in __call__\n",
      "    for func, args, kwargs in self.items]\n",
      "  File \"D:\\Users\\lihaiyang\\anaconda3\\lib\\site-packages\\joblib\\parallel.py\", line 263, in <listcomp>\n",
      "    for func, args, kwargs in self.items]\n",
      "  File \"D:\\Users\\lihaiyang\\anaconda3\\lib\\site-packages\\sklearn\\utils\\fixes.py\", line 209, in __call__\n",
      "    return self.function(*args, **kwargs)\n",
      "  File \"D:\\Users\\lihaiyang\\anaconda3\\lib\\site-packages\\sklearn\\ensemble\\_forest.py\", line 184, in _parallel_build_trees\n",
      "    tree.fit(X, y, sample_weight=curr_sample_weight, check_input=False)\n",
      "  File \"D:\\Users\\lihaiyang\\anaconda3\\lib\\site-packages\\sklearn\\tree\\_classes.py\", line 942, in fit\n",
      "    X_idx_sorted=X_idx_sorted,\n",
      "  File \"D:\\Users\\lihaiyang\\anaconda3\\lib\\site-packages\\sklearn\\tree\\_classes.py\", line 254, in fit\n",
      "    % self.min_samples_split\n",
      "ValueError: min_samples_split must be an integer greater than 1 or a float in (0.0, 1.0]; got the integer 1\n",
      "\n",
      "  warnings.warn(some_fits_failed_message, FitFailedWarning)\n",
      "D:\\Users\\lihaiyang\\anaconda3\\lib\\site-packages\\sklearn\\model_selection\\_search.py:972: UserWarning: One or more of the test scores are non-finite: [       nan 0.77348993 0.7738255  0.77483221 0.77348993 0.7738255\n",
      " 0.76912752 0.77684564 0.77248322 0.77583893 0.77281879 0.77281879\n",
      " 0.77751678 0.77348993 0.77516779 0.77449664 0.77885906 0.77416107\n",
      " 0.77651007 0.77684564        nan 0.77550336 0.77550336 0.77550336\n",
      " 0.77181208 0.7738255  0.77315436 0.77416107 0.77348993 0.77483221\n",
      " 0.77651007 0.77449664 0.77684564 0.77718121 0.77483221 0.77583893\n",
      " 0.77785235 0.77583893 0.7761745  0.7738255         nan 0.77516779\n",
      " 0.77516779 0.77516779 0.77516779 0.77516779 0.7738255  0.77315436\n",
      " 0.7738255  0.77483221 0.77449664 0.77315436 0.77348993 0.77684564\n",
      " 0.77147651 0.77516779 0.77516779 0.77550336 0.77550336 0.7761745\n",
      "        nan 0.7738255  0.7738255  0.7738255  0.7738255  0.7738255\n",
      " 0.7738255  0.7738255  0.77449664 0.77181208 0.77315436 0.77449664\n",
      " 0.77651007 0.77550336 0.77651007 0.77416107 0.7761745  0.77516779\n",
      " 0.77751678 0.77718121        nan 0.77416107 0.77416107 0.77416107\n",
      " 0.77416107 0.77416107 0.77416107 0.77416107 0.77416107 0.77416107\n",
      " 0.77583893 0.77550336 0.77248322 0.77550336 0.77651007 0.77583893\n",
      " 0.77416107 0.77516779 0.77583893 0.77818792        nan 0.77550336\n",
      " 0.77550336 0.77550336 0.77550336 0.77550336 0.77550336 0.77550336\n",
      " 0.77550336 0.77550336 0.77550336 0.77550336 0.77684564 0.77248322\n",
      " 0.77919463 0.77919463 0.77583893 0.77583893 0.77449664 0.77583893\n",
      "        nan 0.77516779 0.77516779 0.77516779 0.77516779 0.77516779\n",
      " 0.77516779 0.77516779 0.77516779 0.77516779 0.77516779 0.77516779\n",
      " 0.77516779 0.77516779 0.77483221 0.7795302  0.77718121 0.77483221\n",
      " 0.77751678 0.77852349        nan 0.77718121 0.77718121 0.77718121\n",
      " 0.77718121 0.77718121 0.77718121 0.77718121 0.77718121 0.77718121\n",
      " 0.77718121 0.77718121 0.77718121 0.77718121 0.77718121 0.77718121\n",
      " 0.77449664 0.77516779 0.77684564 0.77348993        nan 0.77684564\n",
      " 0.77684564 0.77684564 0.77684564 0.77684564 0.77684564 0.77684564\n",
      " 0.77684564 0.77684564 0.77684564 0.77684564 0.77684564 0.77684564\n",
      " 0.77684564 0.77684564 0.77684564 0.77684564 0.7738255  0.77416107\n",
      "        nan 0.7761745  0.7761745  0.7761745  0.7761745  0.7761745\n",
      " 0.7761745  0.7761745  0.7761745  0.7761745  0.7761745  0.7761745\n",
      " 0.7761745  0.7761745  0.7761745  0.7761745  0.7761745  0.7761745\n",
      " 0.7761745  0.7761745         nan 0.77785235 0.77785235 0.77785235\n",
      " 0.77785235 0.77785235 0.77785235 0.77785235 0.77785235 0.77785235\n",
      " 0.77785235 0.77785235 0.77785235 0.77785235 0.77785235 0.77785235\n",
      " 0.77785235 0.77785235 0.77785235 0.77785235        nan 0.77651007\n",
      " 0.77651007 0.77651007 0.77651007 0.77651007 0.77651007 0.77651007\n",
      " 0.77651007 0.77651007 0.77651007 0.77651007 0.77651007 0.77651007\n",
      " 0.77651007 0.77651007 0.77651007 0.77651007 0.77651007 0.77651007\n",
      "        nan 0.7761745  0.7761745  0.7761745  0.7761745  0.7761745\n",
      " 0.7761745  0.7761745  0.7761745  0.7761745  0.7761745  0.7761745\n",
      " 0.7761745  0.7761745  0.7761745  0.7761745  0.7761745  0.7761745\n",
      " 0.7761745  0.7761745         nan 0.77583893 0.77583893 0.77583893\n",
      " 0.77583893 0.77583893 0.77583893 0.77583893 0.77583893 0.77583893\n",
      " 0.77583893 0.77583893 0.77583893 0.77583893 0.77583893 0.77583893\n",
      " 0.77583893 0.77583893 0.77583893 0.77583893        nan 0.77583893\n",
      " 0.77583893 0.77583893 0.77583893 0.77583893 0.77583893 0.77583893\n",
      " 0.77583893 0.77583893 0.77583893 0.77583893 0.77583893 0.77583893\n",
      " 0.77583893 0.77583893 0.77583893 0.77583893 0.77583893 0.77583893\n",
      "        nan 0.77483221 0.77483221 0.77483221 0.77483221 0.77483221\n",
      " 0.77483221 0.77483221 0.77483221 0.77483221 0.77483221 0.77483221\n",
      " 0.77483221 0.77483221 0.77483221 0.77483221 0.77483221 0.77483221\n",
      " 0.77483221 0.77483221        nan 0.77416107 0.77416107 0.77416107\n",
      " 0.77416107 0.77416107 0.77416107 0.77416107 0.77416107 0.77416107\n",
      " 0.77416107 0.77416107 0.77416107 0.77416107 0.77416107 0.77416107\n",
      " 0.77416107 0.77416107 0.77416107 0.77416107        nan 0.77516779\n",
      " 0.77516779 0.77516779 0.77516779 0.77516779 0.77516779 0.77516779\n",
      " 0.77516779 0.77516779 0.77516779 0.77516779 0.77516779 0.77516779\n",
      " 0.77516779 0.77516779 0.77516779 0.77516779 0.77516779 0.77516779\n",
      "        nan 0.77516779 0.77516779 0.77516779 0.77516779 0.77516779\n",
      " 0.77516779 0.77516779 0.77516779 0.77516779 0.77516779 0.77516779\n",
      " 0.77516779 0.77516779 0.77516779 0.77516779 0.77516779 0.77516779\n",
      " 0.77516779 0.77516779        nan 0.77449664 0.77449664 0.77449664\n",
      " 0.77449664 0.77449664 0.77449664 0.77449664 0.77449664 0.77449664\n",
      " 0.77449664 0.77449664 0.77449664 0.77449664 0.77449664 0.77449664\n",
      " 0.77449664 0.77449664 0.77449664 0.77449664]\n",
      "  category=UserWarning,\n"
     ]
    },
    {
     "data": {
      "text/plain": [
       "GridSearchCV(estimator=RandomForestClassifier(n_estimators=500,\n",
       "                                              random_state=99),\n",
       "             param_grid={'min_samples_leaf': array([ 1,  2,  3,  4,  5,  6,  7,  8,  9, 10, 11, 12, 13, 14, 15, 16, 17,\n",
       "       18, 19, 20]),\n",
       "                         'min_samples_split': array([ 1,  2,  3,  4,  5,  6,  7,  8,  9, 10, 11, 12, 13, 14, 15, 16, 17,\n",
       "       18, 19, 20])})"
      ]
     },
     "execution_count": 68,
     "metadata": {},
     "output_type": "execute_result"
    }
   ],
   "source": [
    "grid_search__.fit(train_qfeature__s,train_target)"
   ]
  },
  {
   "cell_type": "code",
   "execution_count": 69,
   "id": "db5caef2",
   "metadata": {
    "collapsed": true,
    "jupyter": {
     "outputs_hidden": true
    }
   },
   "outputs": [
    {
     "data": {
      "text/plain": [
       "{'min_samples_leaf': 7, 'min_samples_split': 16}"
      ]
     },
     "execution_count": 69,
     "metadata": {},
     "output_type": "execute_result"
    }
   ],
   "source": [
    "grid_search__.best_params_"
   ]
  },
  {
   "cell_type": "code",
   "execution_count": 70,
   "id": "bd9a3b88",
   "metadata": {
    "collapsed": true,
    "jupyter": {
     "outputs_hidden": true
    }
   },
   "outputs": [
    {
     "data": {
      "text/plain": [
       "0.779530201342282"
      ]
     },
     "execution_count": 70,
     "metadata": {},
     "output_type": "execute_result"
    }
   ],
   "source": [
    "grid_search__.best_score_"
   ]
  },
  {
   "cell_type": "code",
   "execution_count": 71,
   "id": "915fef70",
   "metadata": {
    "collapsed": true,
    "jupyter": {
     "outputs_hidden": true
    }
   },
   "outputs": [
    {
     "data": {
      "text/plain": [
       "0.7941988950276243"
      ]
     },
     "execution_count": 71,
     "metadata": {},
     "output_type": "execute_result"
    }
   ],
   "source": [
    "grid_search__.best_estimator_.score(test_qfeature__s,test_target)"
   ]
  },
  {
   "cell_type": "code",
   "execution_count": null,
   "id": "1cba7486",
   "metadata": {
    "collapsed": true,
    "jupyter": {
     "outputs_hidden": true
    }
   },
   "outputs": [],
   "source": []
  }
 ],
 "metadata": {
  "kernelspec": {
   "display_name": "Python 3 (ipykernel)",
   "language": "python",
   "name": "python3"
  },
  "language_info": {
   "codemirror_mode": {
    "name": "ipython",
    "version": 3
   },
   "file_extension": ".py",
   "mimetype": "text/x-python",
   "name": "python",
   "nbconvert_exporter": "python",
   "pygments_lexer": "ipython3",
   "version": "3.11.7"
  }
 },
 "nbformat": 4,
 "nbformat_minor": 5
}
